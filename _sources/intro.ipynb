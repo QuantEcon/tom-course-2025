{
 "cells": [
  {
   "cell_type": "markdown",
   "id": "57123a16",
   "metadata": {},
   "source": [
    "# Econ GA-3002, New York University\n",
    "\n",
    " Spring 2025, Topics in Computational Economics\n",
    "\n",
    " Teachers: Alfred Galichon and Thomas Sargent \n",
    " \n",
    " This website presents selected QuantEcon lectures for Tom's part of the class\n",
    "\n",
    "```{tableofcontents}\n",
    "```"
   ]
  }
 ],
 "metadata": {
  "jupytext": {
   "text_representation": {
    "extension": ".md",
    "format_name": "myst"
   }
  },
  "kernelspec": {
   "display_name": "Python 3",
   "language": "python",
   "name": "python3"
  },
  "source_map": [
   10
  ]
 },
 "nbformat": 4,
 "nbformat_minor": 5
}